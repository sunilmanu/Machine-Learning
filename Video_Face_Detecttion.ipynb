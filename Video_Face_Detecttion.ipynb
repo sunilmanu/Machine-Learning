{
 "cells": [
  {
   "cell_type": "code",
   "execution_count": null,
   "metadata": {},
   "outputs": [],
   "source": [
    "import cv2\n",
    "import face_recognition"
   ]
  },
  {
   "cell_type": "code",
   "execution_count": 2,
   "metadata": {},
   "outputs": [
    {
     "data": {
      "text/plain": [
       "183"
      ]
     },
     "execution_count": 2,
     "metadata": {},
     "output_type": "execute_result"
    }
   ],
   "source": [
    "input_movie = cv2.VideoCapture(\"D:/Sunil/sunil_conda/t81_558_deep_learning-master/t81_558_deep_learning-master/Video/sunil.mp4\")\n",
    "length = int(input_movie.get(cv2.CAP_PROP_FRAME_COUNT))\n",
    "length"
   ]
  },
  {
   "cell_type": "code",
   "execution_count": 3,
   "metadata": {},
   "outputs": [],
   "source": [
    "image_sunil = face_recognition.load_image_file('D:/Sunil/sunil_conda/t81_558_deep_learning-master/t81_558_deep_learning-master/data/sunil.jpg')\n",
    "sunil_encoded = face_recognition.face_encodings(image_sunil)[0]"
   ]
  },
  {
   "cell_type": "code",
   "execution_count": 4,
   "metadata": {},
   "outputs": [],
   "source": [
    "known_faces = [\n",
    "sunil_encoded,\n",
    "]"
   ]
  },
  {
   "cell_type": "code",
   "execution_count": 5,
   "metadata": {},
   "outputs": [],
   "source": [
    "face_locations = []\n",
    "face_encodings = []\n",
    "face_names = []\n",
    "frame_number = 0"
   ]
  },
  {
   "cell_type": "code",
   "execution_count": null,
   "metadata": {},
   "outputs": [],
   "source": [
    "while True:\n",
    "    ret,frame = input_movie.read()\n",
    "    frame_number+=1\n",
    "    if not ret:\n",
    "        break\n",
    "    rgb_frame = frame[:, :, ::-1]\n",
    "    face_locations = face_recognition.face_locations(rgb_frame,model='cnn')\n",
    "    face_encodings = face_recognition.face_encodings(rgb_frame, face_locations)\n",
    "    face_names = []\n",
    "    for face_encoding in face_encodings:\n",
    "        match = face_recognition.compare_faces(known_faces, sunil_encoded, tolerance=0.50)\n",
    "        name=\"Unknown\"\n",
    "        if match[0]:\n",
    "            name = \"Sunil\"\n",
    "        face_names.append()\n",
    "    for (top, right, bottom, left), name in zip(face_locations, face_names):\n",
    "        if not name:\n",
    "            continue\n",
    "        cv2.rectangle(frame, (left, top), (right, bottom), (0, 0, 255), 2)\n",
    "        cv2.rectangle(frame, (left, bottom - 25), (right, bottom), (0, 0, 255), cv2.FILLED)\n",
    "        font = cv2.FONT_HERSHEY_DUPLEX\n",
    "        cv2.putText(frame, name, (left + 6, bottom - 6), font, 0.5, (255, 255, 255), 1)\n",
    "    print(\"Writing frame {} / {}\".format(frame_number, length))\n",
    "    codec = int(input_movie.get(cv2.CAP_PROP_FOURCC))\n",
    "    fps = int(input_movie.get(cv2.CAP_PROP_FPS))\n",
    "    frame_width = int(input_movie.get(cv2.CAP_PROP_FRAME_WIDTH))\n",
    "    frame_height = int(input_movie.get(cv2.CAP_PROP_FRAME_HEIGHT))\n",
    "    output_movie = cv2.VideoWriter(\"sunil_detected.mp4\", codec, fps, (frame_width,frame_height))\n",
    "output_movie.release()\n",
    "input_movie.release()\n",
    "cv2.destroyAllWindows()"
   ]
  },
  {
   "cell_type": "code",
   "execution_count": null,
   "metadata": {},
   "outputs": [],
   "source": []
  }
 ],
 "metadata": {
  "kernelspec": {
   "display_name": "Python 3.6 (tensorflow)",
   "language": "python",
   "name": "dfhdfh"
  },
  "language_info": {
   "codemirror_mode": {
    "name": "ipython",
    "version": 3
   },
   "file_extension": ".py",
   "mimetype": "text/x-python",
   "name": "python",
   "nbconvert_exporter": "python",
   "pygments_lexer": "ipython3",
   "version": "3.6.6"
  }
 },
 "nbformat": 4,
 "nbformat_minor": 2
}
