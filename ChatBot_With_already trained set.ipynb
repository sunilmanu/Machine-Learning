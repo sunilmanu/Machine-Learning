{
 "cells": [
  {
   "cell_type": "code",
   "execution_count": 2,
   "metadata": {},
   "outputs": [
    {
     "name": "stderr",
     "output_type": "stream",
     "text": [
      "[nltk_data] Error loading stopwords: HTTP Error 401: Authorization\n",
      "[nltk_data]     Required\n",
      "[nltk_data] Error loading averaged_perceptron_tagger: HTTP Error 401:\n",
      "[nltk_data]     Authorization Required\n"
     ]
    }
   ],
   "source": [
    "from chatterbot import ChatBot\n",
    "from chatterbot.trainers import ListTrainer\n",
    "from chatterbot.trainers import ChatterBotCorpusTrainer\n",
    "import os\n",
    "bot = ChatBot(\"Sunil_bot\")\n",
    "trainer = ChatterBotCorpusTrainer(bot)"
   ]
  },
  {
   "cell_type": "code",
   "execution_count": null,
   "metadata": {},
   "outputs": [
    {
     "name": "stdout",
     "output_type": "stream",
     "text": [
      "You:hello\n",
      "Sunil_bot: Hi\n",
      "You:where are you?\n",
      "Sunil_bot: I am on the Internet.\n",
      "You:Nice\n",
      "Sunil_bot: I try to be as nice as I can.\n",
      "You:Tell me a joke\n",
      "Sunil_bot: Did you hear the one about the mountain goats in the andes? It was \"ba a a a a a d\".\n",
      "You:hahahaha\n",
      "Sunil_bot: Missing documentation.\n",
      "You:did you eat?\n",
      "Sunil_bot: I consume RAM, and binary digits.\n",
      "You:ok whatelse\n",
      "Sunil_bot: What do you get when you cross an alien and a chicken? Eggs-traterrestrial.\n",
      "You:Can you dance?\n",
      "Sunil_bot: Sorry my body isn't built just yet. I reside only here for now.\n"
     ]
    }
   ],
   "source": [
    "while True:\n",
    "    message = input('You:')\n",
    "    if message.strip() == 'Bye':\n",
    "        print('Sunil_bot: Bye')\n",
    "        break\n",
    "    if message.strip() != 'Bye':\n",
    "        reply = bot.get_response(message)\n",
    "        print('Sunil_bot:',reply)"
   ]
  },
  {
   "cell_type": "code",
   "execution_count": null,
   "metadata": {},
   "outputs": [],
   "source": []
  }
 ],
 "metadata": {
  "kernelspec": {
   "display_name": "Python 3.6 (tensorflow)",
   "language": "python",
   "name": "dfhdfh"
  },
  "language_info": {
   "codemirror_mode": {
    "name": "ipython",
    "version": 3
   },
   "file_extension": ".py",
   "mimetype": "text/x-python",
   "name": "python",
   "nbconvert_exporter": "python",
   "pygments_lexer": "ipython3",
   "version": "3.6.6"
  }
 },
 "nbformat": 4,
 "nbformat_minor": 2
}
