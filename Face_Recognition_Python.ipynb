{
 "cells": [
  {
   "cell_type": "code",
   "execution_count": 734,
   "metadata": {},
   "outputs": [],
   "source": [
    "import cv2"
   ]
  },
  {
   "cell_type": "code",
   "execution_count": 735,
   "metadata": {},
   "outputs": [],
   "source": [
    "import face_recognition"
   ]
  },
  {
   "cell_type": "code",
   "execution_count": 736,
   "metadata": {},
   "outputs": [],
   "source": [
    "from PIL import Image,ImageDraw"
   ]
  },
  {
   "cell_type": "code",
   "execution_count": 737,
   "metadata": {},
   "outputs": [],
   "source": [
    "image_vaishu = face_recognition.load_image_file('D:/Sunil/sunil_conda/t81_558_deep_learning-master/t81_558_deep_learning-master/data/vaishu.jpg')\n",
    "vaishu_encoded = face_recognition.face_encodings(image_vaishu,)[0]\n",
    "\n",
    "image_sunil = face_recognition.load_image_file('D:/Sunil/sunil_conda/t81_558_deep_learning-master/t81_558_deep_learning-master/data/sunil.jpg')\n",
    "sunil_encoded = face_recognition.face_encodings(image_sunil)[0]\n",
    "\n",
    "image_theju = face_recognition.load_image_file('D:/Sunil/sunil_conda/t81_558_deep_learning-master/t81_558_deep_learning-master/data/theju.jpg')\n",
    "theju_encoded = face_recognition.face_encodings(image_theju)[0]\n",
    "\n",
    "image_radhika = face_recognition.load_image_file('D:/Sunil/sunil_conda/t81_558_deep_learning-master/t81_558_deep_learning-master/data/Radhika.jpg')\n",
    "radhika_encoded = face_recognition.face_encodings(image_radhika)[0]\n",
    "\n",
    "image_sravani = face_recognition.load_image_file('D:/Sunil/sunil_conda/t81_558_deep_learning-master/t81_558_deep_learning-master/data/sravani.jpg')\n",
    "sravani_encoded = face_recognition.face_encodings(image_sravani)[0]\n",
    "\n",
    "image_vinay = face_recognition.load_image_file('D:/Sunil/sunil_conda/t81_558_deep_learning-master/t81_558_deep_learning-master/data/vinay.jpg')\n",
    "vinay_encoded = face_recognition.face_encodings(image_vinay)[0]"
   ]
  },
  {
   "cell_type": "code",
   "execution_count": 738,
   "metadata": {},
   "outputs": [],
   "source": [
    "train_face_encodings=[vaishu_encoded,sunil_encoded,theju_encoded,radhika_encoded,sravani_encoded,vinay_encoded]"
   ]
  },
  {
   "cell_type": "code",
   "execution_count": 739,
   "metadata": {},
   "outputs": [],
   "source": [
    "train_face_names=[\"vaishu\",\"sunil\",\"theju\",\"radhika\",\"sravani\",\"Vinay\"]"
   ]
  },
  {
   "cell_type": "code",
   "execution_count": 740,
   "metadata": {},
   "outputs": [],
   "source": [
    "test_image = face_recognition.load_image_file('D:/Sunil/sunil_conda/t81_558_deep_learning-master/t81_558_deep_learning-master/data/vinay_vaishu.jpg')"
   ]
  },
  {
   "cell_type": "code",
   "execution_count": 741,
   "metadata": {},
   "outputs": [],
   "source": [
    "face_locations=face_recognition.face_locations(test_image)\n"
   ]
  },
  {
   "cell_type": "code",
   "execution_count": 742,
   "metadata": {},
   "outputs": [],
   "source": [
    "face_encoded=face_recognition.face_encodings(test_image,face_locations)"
   ]
  },
  {
   "cell_type": "code",
   "execution_count": 743,
   "metadata": {},
   "outputs": [],
   "source": [
    "pil_image=Image.fromarray(test_image)"
   ]
  },
  {
   "cell_type": "code",
   "execution_count": 744,
   "metadata": {},
   "outputs": [],
   "source": [
    "draw=ImageDraw.Draw(pil_image)"
   ]
  },
  {
   "cell_type": "code",
   "execution_count": 745,
   "metadata": {},
   "outputs": [],
   "source": [
    "for(top,right,bottom,left),face_encoded in zip(face_locations,face_encoded):\n",
    "    matches = face_recognition.compare_faces(train_face_encodings,face_encoded,tolerance=0.48)\n",
    "    name=\"Unknown\"\n",
    "    if True in matches:\n",
    "        first_match_index = matches.index(True)\n",
    "        name = train_face_names[first_match_index]\n",
    "    draw.rectangle(((left,top),(right,bottom)),outline=(0,0,0))\n",
    "    text_width,text_height = draw.textsize(name)\n",
    "    draw.rectangle(((left,bottom-text_height),(right,bottom)),fill=(0,0,1),outline=(0,0,1))\n",
    "    draw.text((left+6,bottom-text_width),name,file=(255,255,255,255))\n",
    "del draw"
   ]
  },
  {
   "cell_type": "code",
   "execution_count": 746,
   "metadata": {},
   "outputs": [],
   "source": [
    "pil_image.show()"
   ]
  },
  {
   "cell_type": "code",
   "execution_count": 747,
   "metadata": {},
   "outputs": [],
   "source": [
    "pil_image.save('vinay_vaishu.jpg')"
   ]
  },
  {
   "cell_type": "code",
   "execution_count": null,
   "metadata": {},
   "outputs": [],
   "source": []
  }
 ],
 "metadata": {
  "kernelspec": {
   "display_name": "Python 3.6 (tensorflow)",
   "language": "python",
   "name": "dfhdfh"
  },
  "language_info": {
   "codemirror_mode": {
    "name": "ipython",
    "version": 3
   },
   "file_extension": ".py",
   "mimetype": "text/x-python",
   "name": "python",
   "nbconvert_exporter": "python",
   "pygments_lexer": "ipython3",
   "version": "3.6.6"
  }
 },
 "nbformat": 4,
 "nbformat_minor": 2
}
